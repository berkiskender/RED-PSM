{
 "cells": [
  {
   "cell_type": "markdown",
   "id": "3f9586ca-857d-4446-8901-198dca0b495f",
   "metadata": {},
   "source": [
    "## Imports"
   ]
  },
  {
   "cell_type": "code",
   "execution_count": null,
   "id": "c9b2ff0f-79a3-47a6-9da1-55b299140397",
   "metadata": {},
   "outputs": [],
   "source": [
    "import itertools\n",
    "from pathlib import Path\n",
    "import yaml\n",
    "\n",
    "import numpy as np\n",
    "import matplotlib.pyplot as plt\n",
    "from tqdm import tqdm\n",
    "\n",
    "import torch\n",
    "import torch.nn as nn\n",
    "import torch.optim as optim\n",
    "\n",
    "import red_psm_utils\n",
    "import plots\n",
    "import red_psm_models\n",
    "import red_psm_train\n",
    "import red_psm_metrics"
   ]
  },
  {
   "cell_type": "markdown",
   "id": "a3cc30ba-c93d-40bf-ace4-cd46cc1c0d96",
   "metadata": {},
   "source": [
    "## Flags & Hyperparameters"
   ]
  },
  {
   "cell_type": "code",
   "execution_count": null,
   "id": "da3adaf4-99fe-4b89-b3a4-ee810b057bef",
   "metadata": {},
   "outputs": [],
   "source": [
    "P = 256  # Total number of time instances = P\n",
    "ANG_PERIOD = None  # Number of distinct views. If no period == None\n",
    "MOTION = 'piecewise_affine_transform'  # motion types: ['piecewise_affine_transform', 'cardiac', 'LLNL']\n",
    "OBJ_TYPE = 'walnut'  # available objects: ['walnut', 'material', 'cardiac_rep_sq', 'LLNL']\n",
    "NUM_INST = P  # Total number of projections for the full projection data\n",
    "SPATIAL_DIM = 128  # Spatial dim of the recon: d x d, and proj: d, default: 128, LLNL data: 80\n",
    "VIEW_ANG_SCH = 'bit_reversal'  # ['linear', 'random', 'bit_reversal', 'golden_angle']\n",
    "PI_SYMM = True  # Exploit projection pi-symm\n",
    "ang_range = np.pi if PI_SYMM else 2 * np.pi  # the range of view angles\n",
    "NOISE_STD = 1e-2 / 2  # Measurement noise std\n",
    "GEN_G_ALL = False  # If True: Generate noisy full set of measurements, False: load existing data\n",
    "SAVE_NOISY_MEAS = False  # If True: save noisy projs, False: load saved ones\n",
    "FWD_MODEL_PATH = 'forward_model/'"
   ]
  },
  {
   "cell_type": "markdown",
   "id": "789dc9fc-2477-41e5-b729-a51e82aae7c9",
   "metadata": {},
   "source": [
    "## Load variables"
   ]
  },
  {
   "cell_type": "code",
   "execution_count": null,
   "id": "9cd40286-11e0-4532-b65f-524c326bf355",
   "metadata": {},
   "outputs": [],
   "source": [
    "# Compute view angle scheme\n",
    "theta_dict = {}\n",
    "[theta_dict['linear'], theta_dict['random'], theta_dict['bit_reversal'],\n",
    " theta_dict['golden_angle']] = red_psm_utils.generate_theta(\n",
    "    P, ang_range=ang_range, period=ANG_PERIOD)\n",
    "theta_exp = theta_dict[VIEW_ANG_SCH]\n",
    "theta_exp_pi_symm = theta_exp + np.pi\n",
    "\n",
    "# Load phantom\n",
    "f = red_psm_utils.load_f(OBJ_TYPE, MOTION, SPATIAL_DIM, P)\n",
    "\n",
    "# Compute subsampled measurements from the true object\n",
    "g_radon = red_psm_utils.obtain_projections(f, theta_exp, P)\n",
    "g_radon_pi_symm = red_psm_utils.obtain_projections(f, theta_exp_pi_symm, P)\n",
    "g_radon_symm_long = red_psm_utils.construct_pi_symm_g(\n",
    "    g_radon, g_radon_pi_symm, ang_range)\n",
    "\n",
    "# Compute/Load full set of measurements\n",
    "PATH = 'data/'\n",
    "ADD_PATH = '_mean_corr' if OBJ_TYPE == 'material' else ''\n",
    "if GEN_G_ALL:\n",
    "    f_pol_radon, f_true_recon_radon = red_psm_utils.generate_f_pol(\n",
    "        f, P, SPATIAL_DIM, NUM_INST, theta_exp, OBJ_TYPE,\n",
    "        ANG_PERIOD, PATH, save=True, add_path=ADD_PATH)\n",
    "else:\n",
    "    STR_PERIOD = '' if ANG_PERIOD is None else '_' + str(ANG_PERIOD)\n",
    "    f_pol_radon = np.load(PATH + 'f_full_meas_%s%s_%d%s.npy' %(\n",
    "        OBJ_TYPE, ADD_PATH, P, STR_PERIOD))\n",
    "\n",
    "# Compute/Load measurements with AWGN with std=noise_std\n",
    "if SAVE_NOISY_MEAS:\n",
    "    g_radon_noisy, g_radon_symm_long_noisy = red_psm_utils.add_meas_noise(\n",
    "        g_radon, g_radon_symm_long, NOISE_STD, f_pol_radon.max(), ang_range, \n",
    "        OBJ_TYPE, P, ANG_PERIOD, PATH, save=SAVE_NOISY_MEAS, add_path=ADD_PATH)    \n",
    "elif ang_range == np.pi:\n",
    "    STR_PERIOD = '' if ANG_PERIOD is None else '_' + str(ANG_PERIOD)\n",
    "    g_radon_symm_long_noisy = np.load(\n",
    "        PATH + 'g_radon_symm_long_noisy_%s%s_%d%s_noise_std_%.2e.npy' %(\n",
    "            OBJ_TYPE, ADD_PATH, P, STR_PERIOD, NOISE_STD))\n",
    "else:\n",
    "    raise NotImplementedError\n",
    "\n",
    "# Load forward operator\n",
    "R, R_cuda = red_psm_utils.load_radon_op(\n",
    "    PI_SYMM, SPATIAL_DIM, P, period=ANG_PERIOD, path=FWD_MODEL_PATH)"
   ]
  },
  {
   "cell_type": "markdown",
   "id": "d2910eda-43dc-463c-8a30-841a3805bb17",
   "metadata": {},
   "source": [
    "## Display $f$, view angle acquisition scheme $\\theta(t)$, and projections $g_t$"
   ]
  },
  {
   "cell_type": "code",
   "execution_count": null,
   "id": "179d2de2-ba6e-4abd-89e4-c5a24d037876",
   "metadata": {},
   "outputs": [],
   "source": [
    "plots.display_inputs(f, theta_exp, P, num_frames=8)"
   ]
  },
  {
   "cell_type": "markdown",
   "id": "060bc70a-b538-4e3e-b94b-a285a2bf5095",
   "metadata": {},
   "source": [
    "# RED-PSM"
   ]
  },
  {
   "cell_type": "markdown",
   "id": "e03eadaa-9308-411f-8c84-b54f449c4bf6",
   "metadata": {},
   "source": [
    "## Load training parameter configuration"
   ]
  },
  {
   "cell_type": "code",
   "execution_count": null,
   "id": "dbc8e5b7-aca1-46bf-96ab-cbec71ff9a04",
   "metadata": {},
   "outputs": [],
   "source": [
    "with open(\"config/red_psm_train_cfg_P%d.yaml\" %P, \"r\") as file:\n",
    "    params = yaml.load(file, Loader=yaml.FullLoader)\n",
    "print(params)"
   ]
  },
  {
   "cell_type": "markdown",
   "id": "240a5928-e8b4-4a70-a13a-d5897c01c18e",
   "metadata": {},
   "source": [
    "## Run RED-PSM with various configurations"
   ]
  },
  {
   "cell_type": "code",
   "execution_count": null,
   "id": "ec98c270-cbc9-4ec4-a1b4-00bd1d5a41af",
   "metadata": {
    "scrolled": true,
    "tags": []
   },
   "outputs": [],
   "source": [
    "print('RED-PSM: Simultaneous PSM updates')\n",
    "results_per_config = []\n",
    "\n",
    "# Run RED-PSM for each configuration defined in the yaml file\n",
    "for tempBasis, K, z_dim, beta, xi, chi, lmbda, pSize, pStride, num_layers in list(\n",
    "    itertools.product(\n",
    "        params['temporal_basis'], params['K_sweep'], params['d_sweep'],\n",
    "        params['beta_sweep'], params['xi_sweep'], params['chi_sweep'], \n",
    "        params['lmbda_sweep'], params['pSize_sweep'], params['pStride_sweep'], \n",
    "        params['num_layers_sweep'])):\n",
    "    print('Temp basis type:%s K:%d d:%d beta:%.1e xi:%.1e chi:%.1e lambda:%.1e'\n",
    "          '\\nDenoiser type:%s Denoiser patch size:%s patch stride:%s' %(\n",
    "              tempBasis, K, z_dim, beta, xi, chi, lmbda,\n",
    "              params['denoiser_type'], pSize, pStride))\n",
    "    \n",
    "    # Load RED denoiser & patchifier if denoiser_type == patch-based\n",
    "    model_denoiser, patchifier = red_psm_utils.denoising_network_loader(\n",
    "        'dncnn', denoiser_type=params['denoiser_type'], pSize=pSize,\n",
    "        pStride=pStride, num_layers=num_layers, spatial_dim=SPATIAL_DIM,\n",
    "        obj_type=OBJ_TYPE, num_channels=params['num_channels'],\n",
    "        noise_est_type=params['noise_est_type'],\n",
    "        epochs=params['denoiser_epochs'])\n",
    "    \n",
    "    # Initialize spatial and temporal basis functions, and the object f\n",
    "    model = red_psm_models.RedPsm(\n",
    "        P, K, SPATIAL_DIM, z_dim, tempBasis, obj_type=OBJ_TYPE,\n",
    "        temp_init_type=params['temp_init_type'],\n",
    "        f_init_type=params['f_init_type'], \n",
    "        spatial_init_type=params['spatial_init_type'],\n",
    "        temporal_mode=params['temporal_mode'],\n",
    "        noise_std=NOISE_STD, mask=True, rep=params['rep']).cuda()\n",
    "    \n",
    "    # Initialize the scaled dual variable gamma\n",
    "    gamma_est = torch.zeros(model.f_est.shape).cuda()\n",
    "\n",
    "    # Initialize the optimizer/scheduler for the first primal ADMM step\n",
    "    print('Optimizing for: Spatial & temporal basis fcts')\n",
    "    optimizer = optim.Adam([model.spatial_basis_fcts, model.temporal_fcts],\n",
    "                           lr=params['lr_primal'])\n",
    "    scheduler = torch.optim.lr_scheduler.StepLR(\n",
    "        optimizer, step_size=params['num_primal_iter']*params['num_epoch'],\n",
    "        gamma=0.5)\n",
    "    if params['criterion'] == 'MSE':\n",
    "        criterion = nn.MSELoss()\n",
    "    else:\n",
    "        raise NotImplementedError\n",
    "\n",
    "    # Initialize recon metrics per epoch\n",
    "    metrics = {}\n",
    "    [metrics['PSNR_f'], metrics['PSNR_psm'], metrics['MAE_f'],\n",
    "     metrics['MAE_psm'], metrics['SSIM_f'], metrics['SSIM_psm'],\n",
    "     metrics['HFEN_f'], metrics['HFEN_psm']] = [[] for _ in range(8)]\n",
    "    best_psnr_f = 1e-1\n",
    "    best_f_est = None\n",
    "\n",
    "    Nepoch = tqdm(range(params['num_epoch']),\n",
    "                  desc=('PSNR:%.1e/%.1e SSIM:%.2e/%.2e MAE:%.2e/%.2e '\n",
    "                        'HFEN:%.2e/%.2e' %tuple([0 for _ in range(8)])),\n",
    "                  leave=True, ncols=160, colour='green')\n",
    "    for epoch in Nepoch:\n",
    "        # ADMM primal PSM step\n",
    "        [loss_epoch, f_psm_est, g_f_est, spatial_basis_fcts, temporal_fcts,\n",
    "         psi_mtx] = red_psm_train.learn_psm_bases(\n",
    "            model, optimizer, scheduler, criterion, theta_exp,\n",
    "            g_radon_symm_long_noisy, params['num_primal_iter'], P,\n",
    "            SPATIAL_DIM, R=R_cuda, temporal_mode=params['temporal_mode'],\n",
    "            gamma_est=gamma_est, beta=beta, xi=xi, chi=chi, rep=params['rep'])\n",
    "        with torch.no_grad():\n",
    "            # ADMM primal f step\n",
    "            for _ in range(params['num_red_iter']):\n",
    "                model.f_est = red_psm_train.f_update(\n",
    "                    lmbda, beta, model_denoiser, patchifier, model.f_est,\n",
    "                    f_psm_est, gamma_est, params['denoiser_type'], P)\n",
    "            # ADMM dual step\n",
    "            gamma_est = red_psm_train.dual_variable_update(\n",
    "                gamma_est, model.f_est, f_psm_est)\n",
    "\n",
    "        if not epoch % 100:\n",
    "            plots.plot_psm_basis_fcts(psi_mtx, spatial_basis_fcts, K)\n",
    "\n",
    "        # Compute reconstruction accuracy metrics\n",
    "        if epoch % 10 == 0:\n",
    "            if epoch % 100 == 0 and epoch != 0:\n",
    "                plots.train_visualization(\n",
    "                    loss_epoch, model.f_est.detach().cpu(),\n",
    "                    f_psm_est.detach().cpu(), gamma_est.detach().cpu(), f, P//8)\n",
    "\n",
    "            # Update accuracy metrics\n",
    "            metrics, best_psnr_f, best_f_est = red_psm_metrics.update_metrics(\n",
    "                f[..., ::params['rep']],\n",
    "                model.f_est.permute(1, 2, 0).detach().cpu().numpy(),\n",
    "                f_psm_est.permute(1, 2, 0).detach().cpu().numpy(),\n",
    "                metrics, best_psnr_f, best_f_est)\n",
    "\n",
    "            Nepoch.set_description(\n",
    "                'PSNR:%.1e/%.1e SSIM:%.2e/%.2e MAE:%.2e/%.2e HFEN:%.2e/%.2e' %(\n",
    "                    metrics['PSNR_f'][-1], metrics['PSNR_psm'][-1],\n",
    "                    metrics['SSIM_f'][-1], metrics['SSIM_psm'][-1],\n",
    "                    metrics['MAE_f'][-1], metrics['MAE_psm'][-1],\n",
    "                    metrics['HFEN_f'][-1], metrics['HFEN_psm'][-1]))\n",
    "\n",
    "    train_params, train_data = {}, {}\n",
    "    [train_params['K'], train_params['z_dim'], train_params['temporal_basis'],\n",
    "     train_params['beta'], train_params['lmbda'], train_params['xi'],\n",
    "     train_params['chi'], train_params['pSize'], train_params['pStride'],\n",
    "     train_params['num_layers']] = [\n",
    "        K, z_dim, tempBasis, beta, lmbda, xi, chi, pSize, pStride, num_layers]\n",
    "    [train_data['f_est'], train_data['spatial_basis_fcts'],\n",
    "     train_data['temporal_latent_fcts'], train_data['psi_mtx']] = [\n",
    "        best_f_est, model.spatial_basis_fcts.detach().cpu().clone(),\n",
    "        model.temporal_fcts.detach().cpu() if model.temporal_fcts is None else None,\n",
    "        psi_mtx]\n",
    "\n",
    "    results_per_config.append(\n",
    "        [max(metrics['PSNR_f']), metrics, loss_epoch, train_params, train_data,\n",
    "         params['denoiser_type']])\n",
    "    \n",
    "    del model_denoiser\n",
    "    del model"
   ]
  },
  {
   "cell_type": "code",
   "execution_count": null,
   "id": "3a71a7ea-797b-418b-b4ff-21cbf6668fbc",
   "metadata": {},
   "outputs": [],
   "source": [
    "psm_update_type = 'simultaneous_psm_updates'\n",
    "plots.plot_and_save_red_psm_results(\n",
    "    params, OBJ_TYPE, results_per_config, P, psm_update_type,\n",
    "    noise_std=NOISE_STD, ang_period=ANG_PERIOD, save_fig=False)"
   ]
  }
 ],
 "metadata": {
  "kernelspec": {
   "display_name": "tomosipo",
   "language": "python",
   "name": "tomosipo"
  },
  "language_info": {
   "codemirror_mode": {
    "name": "ipython",
    "version": 3
   },
   "file_extension": ".py",
   "mimetype": "text/x-python",
   "name": "python",
   "nbconvert_exporter": "python",
   "pygments_lexer": "ipython3",
   "version": "3.10.10"
  }
 },
 "nbformat": 4,
 "nbformat_minor": 5
}
